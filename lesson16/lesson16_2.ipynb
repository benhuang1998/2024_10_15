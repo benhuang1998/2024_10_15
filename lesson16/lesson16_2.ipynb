{
 "cells": [
  {
   "cell_type": "code",
   "execution_count": null,
   "metadata": {},
   "outputs": [],
   "source": [
    "import pandas as pd\n",
    "\n",
    "df1 = pd.read_csv('new各鄉鎮市區人口密度.csv')\n",
    "display(df1)\n",
    "def format1(value):\n",
    "    return f\"第{value}號\"\n",
    "df1.style\\\n",
    ".format(precision=2,thousands=',',decimal='.')\\\n",
    ".format_index(format1)"
   ]
  },
  {
   "cell_type": "code",
   "execution_count": null,
   "metadata": {},
   "outputs": [],
   "source": [
    "df1 = pd.read_csv('new各鄉鎮市區人口密度.csv')\n",
    "display(df1)\n",
    "def format1(value:int)->str:\n",
    "    return f\"第{value}號\"\n",
    "df1.style\\\n",
    ".format(precision=2,thousands=',',decimal='.')\\\n",
    ".format_index(lambda value:f'第{value}號')"
   ]
  },
  {
   "cell_type": "code",
   "execution_count": 17,
   "metadata": {},
   "outputs": [],
   "source": [
    "import numpy as np\n",
    "weather_df = pd.DataFrame(np.random.rand(10,2)*5,\n",
    "                          index=pd.date_range(start =\"2021-01-01\",periods=10),\n",
    "                          columns=[\"Tokyo\",\"Taipei\"])"
   ]
  },
  {
   "cell_type": "code",
   "execution_count": 24,
   "metadata": {},
   "outputs": [
    {
     "data": {
      "text/html": [
       "<style type=\"text/css\">\n",
       "#T_361a7_row0_col0, #T_361a7_row0_col1, #T_361a7_row1_col1, #T_361a7_row4_col0, #T_361a7_row7_col0, #T_361a7_row8_col0, #T_361a7_row9_col0 {\n",
       "  background-color: #f7fcf0;\n",
       "  color: #000000;\n",
       "}\n",
       "#T_361a7_row1_col0 {\n",
       "  background-color: #e5f5e0;\n",
       "  color: #000000;\n",
       "}\n",
       "#T_361a7_row2_col0 {\n",
       "  background-color: #084485;\n",
       "  color: #f1f1f1;\n",
       "}\n",
       "#T_361a7_row2_col1 {\n",
       "  background-color: #085fa3;\n",
       "  color: #f1f1f1;\n",
       "}\n",
       "#T_361a7_row3_col0, #T_361a7_row5_col0 {\n",
       "  background-color: #e3f4de;\n",
       "  color: #000000;\n",
       "}\n",
       "#T_361a7_row3_col1 {\n",
       "  background-color: #085294;\n",
       "  color: #f1f1f1;\n",
       "}\n",
       "#T_361a7_row4_col1 {\n",
       "  background-color: #f3fbed;\n",
       "  color: #000000;\n",
       "}\n",
       "#T_361a7_row5_col1 {\n",
       "  background-color: #77cac5;\n",
       "  color: #000000;\n",
       "}\n",
       "#T_361a7_row6_col0 {\n",
       "  background-color: #bce5be;\n",
       "  color: #000000;\n",
       "}\n",
       "#T_361a7_row6_col1 {\n",
       "  background-color: #c6e9c2;\n",
       "  color: #000000;\n",
       "}\n",
       "#T_361a7_row7_col1 {\n",
       "  background-color: #d0ecc9;\n",
       "  color: #000000;\n",
       "}\n",
       "#T_361a7_row8_col1 {\n",
       "  background-color: #1d7eb7;\n",
       "  color: #f1f1f1;\n",
       "}\n",
       "#T_361a7_row9_col1 {\n",
       "  background-color: #e8f6e2;\n",
       "  color: #000000;\n",
       "}\n",
       "</style>\n",
       "<table id=\"T_361a7\">\n",
       "  <caption>Weather Conditions</caption>\n",
       "  <thead>\n",
       "    <tr>\n",
       "      <th class=\"blank level0\" >&nbsp;</th>\n",
       "      <th id=\"T_361a7_level0_col0\" class=\"col_heading level0 col0\" >Tokyo</th>\n",
       "      <th id=\"T_361a7_level0_col1\" class=\"col_heading level0 col1\" >Taipei</th>\n",
       "    </tr>\n",
       "  </thead>\n",
       "  <tbody>\n",
       "    <tr>\n",
       "      <th id=\"T_361a7_level0_row0\" class=\"row_heading level0 row0\" >Fri</th>\n",
       "      <td id=\"T_361a7_row0_col0\" class=\"data row0 col0\" >0.579803</td>\n",
       "      <td id=\"T_361a7_row0_col1\" class=\"data row0 col1\" >0.005033</td>\n",
       "    </tr>\n",
       "    <tr>\n",
       "      <th id=\"T_361a7_level0_row1\" class=\"row_heading level0 row1\" >Sat</th>\n",
       "      <td id=\"T_361a7_row1_col0\" class=\"data row1 col0\" >1.393525</td>\n",
       "      <td id=\"T_361a7_row1_col1\" class=\"data row1 col1\" >0.941913</td>\n",
       "    </tr>\n",
       "    <tr>\n",
       "      <th id=\"T_361a7_level0_row2\" class=\"row_heading level0 row2\" >Sun</th>\n",
       "      <td id=\"T_361a7_row2_col0\" class=\"data row2 col0\" >4.952372</td>\n",
       "      <td id=\"T_361a7_row2_col1\" class=\"data row2 col1\" >4.599544</td>\n",
       "    </tr>\n",
       "    <tr>\n",
       "      <th id=\"T_361a7_level0_row3\" class=\"row_heading level0 row3\" >Mon</th>\n",
       "      <td id=\"T_361a7_row3_col0\" class=\"data row3 col0\" >1.452834</td>\n",
       "      <td id=\"T_361a7_row3_col1\" class=\"data row3 col1\" >4.776418</td>\n",
       "    </tr>\n",
       "    <tr>\n",
       "      <th id=\"T_361a7_level0_row4\" class=\"row_heading level0 row4\" >Tue</th>\n",
       "      <td id=\"T_361a7_row4_col0\" class=\"data row4 col0\" >0.987207</td>\n",
       "      <td id=\"T_361a7_row4_col1\" class=\"data row4 col1\" >1.085390</td>\n",
       "    </tr>\n",
       "    <tr>\n",
       "      <th id=\"T_361a7_level0_row5\" class=\"row_heading level0 row5\" >Wed</th>\n",
       "      <td id=\"T_361a7_row5_col0\" class=\"data row5 col0\" >1.441763</td>\n",
       "      <td id=\"T_361a7_row5_col1\" class=\"data row5 col1\" >3.038478</td>\n",
       "    </tr>\n",
       "    <tr>\n",
       "      <th id=\"T_361a7_level0_row6\" class=\"row_heading level0 row6\" >Thu</th>\n",
       "      <td id=\"T_361a7_row6_col0\" class=\"data row6 col0\" >2.230813</td>\n",
       "      <td id=\"T_361a7_row6_col1\" class=\"data row6 col1\" >2.092648</td>\n",
       "    </tr>\n",
       "    <tr>\n",
       "      <th id=\"T_361a7_level0_row7\" class=\"row_heading level0 row7\" >Fri</th>\n",
       "      <td id=\"T_361a7_row7_col0\" class=\"data row7 col0\" >0.879080</td>\n",
       "      <td id=\"T_361a7_row7_col1\" class=\"data row7 col1\" >1.919340</td>\n",
       "    </tr>\n",
       "    <tr>\n",
       "      <th id=\"T_361a7_level0_row8\" class=\"row_heading level0 row8\" >Sat</th>\n",
       "      <td id=\"T_361a7_row8_col0\" class=\"data row8 col0\" >0.469591</td>\n",
       "      <td id=\"T_361a7_row8_col1\" class=\"data row8 col1\" >4.201278</td>\n",
       "    </tr>\n",
       "    <tr>\n",
       "      <th id=\"T_361a7_level0_row9\" class=\"row_heading level0 row9\" >Sun</th>\n",
       "      <td id=\"T_361a7_row9_col0\" class=\"data row9 col0\" >0.595746</td>\n",
       "      <td id=\"T_361a7_row9_col1\" class=\"data row9 col1\" >1.339559</td>\n",
       "    </tr>\n",
       "  </tbody>\n",
       "</table>\n"
      ],
      "text/plain": [
       "<pandas.io.formats.style.Styler at 0x7e87f34eff10>"
      ]
     },
     "execution_count": 24,
     "metadata": {},
     "output_type": "execute_result"
    }
   ],
   "source": [
    "weather_df.style\\\n",
    ".set_caption('Weather Conditions')\\\n",
    ".format_index(lambda v:v.strftime(\"%a\"))\\\n",
    ".background_gradient(vmin=1,vmax=5,cmap='GnBu')"
   ]
  },
  {
   "cell_type": "code",
   "execution_count": 20,
   "metadata": {},
   "outputs": [
    {
     "data": {
      "text/plain": [
       "DatetimeIndex(['2021-01-01', '2021-01-02', '2021-01-03', '2021-01-04',\n",
       "               '2021-01-05', '2021-01-06', '2021-01-07', '2021-01-08',\n",
       "               '2021-01-09', '2021-01-10'],\n",
       "              dtype='datetime64[ns]', freq='D')"
      ]
     },
     "execution_count": 20,
     "metadata": {},
     "output_type": "execute_result"
    }
   ],
   "source": [
    "weather_df.index"
   ]
  }
 ],
 "metadata": {
  "kernelspec": {
   "display_name": "Python 3",
   "language": "python",
   "name": "python3"
  },
  "language_info": {
   "codemirror_mode": {
    "name": "ipython",
    "version": 3
   },
   "file_extension": ".py",
   "mimetype": "text/x-python",
   "name": "python",
   "nbconvert_exporter": "python",
   "pygments_lexer": "ipython3",
   "version": "3.10.15"
  }
 },
 "nbformat": 4,
 "nbformat_minor": 2
}
