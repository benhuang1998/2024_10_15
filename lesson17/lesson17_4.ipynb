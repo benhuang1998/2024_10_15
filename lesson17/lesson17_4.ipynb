{
 "cells": [
  {
   "cell_type": "code",
   "execution_count": null,
   "metadata": {},
   "outputs": [],
   "source": [
    "import yfinance as yf\n",
    "yf.download('AAPL')"
   ]
  },
  {
   "cell_type": "code",
   "execution_count": null,
   "metadata": {},
   "outputs": [],
   "source": [
    "all_data = {}\n",
    "for ticker in ['AAPL','IBM','MSFT','GOOG']:\n",
    "    all_data[ticker] = yf.download(ticker)\n",
    "all_data"
   ]
  },
  {
   "cell_type": "code",
   "execution_count": null,
   "metadata": {},
   "outputs": [],
   "source": [
    "all_data ={ticker: yf.download(ticker) for ticker in ['AAPL','IBM','MSFT','GOOG']}\n",
    "all_data"
   ]
  },
  {
   "cell_type": "code",
   "execution_count": 12,
   "metadata": {},
   "outputs": [
    {
     "name": "stderr",
     "output_type": "stream",
     "text": [
      "/tmp/ipykernel_51755/1660420254.py:1: FutureWarning: The previous implementation of stack is deprecated and will be removed in a future version of pandas. See the What's New notes for pandas 2.1.0 for details. Specify future_stack=True to adopt the new implementation and silence this warning.\n",
      "  all_data['AAPL'].stack()['Adj Close']\n"
     ]
    },
    {
     "data": {
      "text/plain": [
       "Date        Ticker\n",
       "1980-12-12  AAPL        0.098834\n",
       "1980-12-15  AAPL        0.093678\n",
       "1980-12-16  AAPL        0.086802\n",
       "1980-12-17  AAPL        0.088951\n",
       "1980-12-18  AAPL        0.091530\n",
       "                         ...    \n",
       "2024-12-10  AAPL      247.770004\n",
       "2024-12-11  AAPL      246.490005\n",
       "2024-12-12  AAPL      247.960007\n",
       "2024-12-13  AAPL      248.130005\n",
       "2024-12-16  AAPL      251.039993\n",
       "Name: Adj Close, Length: 11095, dtype: float64"
      ]
     },
     "execution_count": 12,
     "metadata": {},
     "output_type": "execute_result"
    }
   ],
   "source": [
    "all_data['AAPL'].stack()['Adj Close']"
   ]
  }
 ],
 "metadata": {
  "kernelspec": {
   "display_name": "Python 3",
   "language": "python",
   "name": "python3"
  },
  "language_info": {
   "codemirror_mode": {
    "name": "ipython",
    "version": 3
   },
   "file_extension": ".py",
   "mimetype": "text/x-python",
   "name": "python",
   "nbconvert_exporter": "python",
   "pygments_lexer": "ipython3",
   "version": "3.10.15"
  }
 },
 "nbformat": 4,
 "nbformat_minor": 2
}
