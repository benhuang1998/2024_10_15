{
 "cells": [
  {
   "cell_type": "code",
   "execution_count": null,
   "metadata": {},
   "outputs": [],
   "source": [
    "import numpy as np\n",
    "import pandas as pd\n",
    "scores = np.random.randint(50,101,size=(50,5))\n",
    "scores_df = pd.DataFrame(scores,index=range(1,51),columns=['國文','英文','數學','地理','歷史'])\n",
    "scores_df.index.name = \"學號\"\n",
    "scores_df.columns.name =\"科目\"\n",
    "scores_df"
   ]
  },
  {
   "cell_type": "code",
   "execution_count": 6,
   "metadata": {},
   "outputs": [
    {
     "data": {
      "text/plain": [
       "學號\n",
       "1     336\n",
       "2     397\n",
       "3     407\n",
       "4     382\n",
       "5     373\n",
       "6     414\n",
       "7     349\n",
       "8     374\n",
       "9     361\n",
       "10    414\n",
       "11    411\n",
       "12    433\n",
       "13    411\n",
       "14    406\n",
       "15    364\n",
       "16    400\n",
       "17    444\n",
       "18    374\n",
       "19    378\n",
       "20    422\n",
       "21    337\n",
       "22    355\n",
       "23    398\n",
       "24    426\n",
       "25    368\n",
       "26    363\n",
       "27    339\n",
       "28    367\n",
       "29    367\n",
       "30    393\n",
       "31    348\n",
       "32    404\n",
       "33    371\n",
       "34    320\n",
       "35    374\n",
       "36    392\n",
       "37    404\n",
       "38    406\n",
       "39    342\n",
       "40    347\n",
       "41    413\n",
       "42    362\n",
       "43    380\n",
       "44    359\n",
       "45    329\n",
       "46    391\n",
       "47    458\n",
       "48    422\n",
       "49    409\n",
       "50    362\n",
       "dtype: int64"
      ]
     },
     "execution_count": 6,
     "metadata": {},
     "output_type": "execute_result"
    }
   ],
   "source": [
    "def call(s):\n",
    "    return s.sum()\n",
    "scores_df.apply(call,axis=1)"
   ]
  }
 ],
 "metadata": {
  "kernelspec": {
   "display_name": "Python 3",
   "language": "python",
   "name": "python3"
  },
  "language_info": {
   "codemirror_mode": {
    "name": "ipython",
    "version": 3
   },
   "file_extension": ".py",
   "mimetype": "text/x-python",
   "name": "python",
   "nbconvert_exporter": "python",
   "pygments_lexer": "ipython3",
   "version": "3.10.15"
  }
 },
 "nbformat": 4,
 "nbformat_minor": 2
}
