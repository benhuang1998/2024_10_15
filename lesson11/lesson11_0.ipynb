{
 "cells": [
  {
   "cell_type": "code",
   "execution_count": 1,
   "metadata": {},
   "outputs": [
    {
     "name": "stdout",
     "output_type": "stream",
     "text": [
      "姓名:郭舜昇\n",
      "身高:164\n",
      "體重:92\n",
      "BMI:34.21\n",
      "狀態:您的體重:中度肥胖\n",
      "===========================\n",
      "姓名:溫法堯\n",
      "身高:180\n",
      "體重:65\n",
      "BMI:20.06\n",
      "狀態:您的體重:正常範圍\n",
      "===========================\n",
      "姓名:王筱婷\n",
      "身高:183\n",
      "體重:81\n",
      "BMI:24.19\n",
      "狀態:您的體重:過重\n",
      "===========================\n"
     ]
    }
   ],
   "source": [
    "import tools\n",
    "from tools import BMI\n",
    "\n",
    "if __name__ == '__main__':\n",
    "    nums = int(input('請輸入人數:'))\n",
    "    names:list[str] = tools.get_name(nums=nums)\n",
    "    students:list[BMI] = tools.generate_bmi(names=names)\n",
    "    for student in students:\n",
    "        print(f\"姓名:{student.name}\")\n",
    "        print(f\"身高:{student.height}\")\n",
    "        print(f\"體重:{student.weight}\")\n",
    "        print(f\"BMI:{student.get_bmi()}\")\n",
    "        print(f\"狀態:{student.get_status()}\")\n",
    "        print(\"===========================\")"
   ]
  }
 ],
 "metadata": {
  "kernelspec": {
   "display_name": "Python 3",
   "language": "python",
   "name": "python3"
  },
  "language_info": {
   "codemirror_mode": {
    "name": "ipython",
    "version": 3
   },
   "file_extension": ".py",
   "mimetype": "text/x-python",
   "name": "python",
   "nbconvert_exporter": "python",
   "pygments_lexer": "ipython3",
   "version": "3.10.15"
  }
 },
 "nbformat": 4,
 "nbformat_minor": 2
}
