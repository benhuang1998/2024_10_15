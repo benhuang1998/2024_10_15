{
 "cells": [
  {
   "cell_type": "code",
   "execution_count": null,
   "metadata": {},
   "outputs": [],
   "source": [
    "def isPhoneNumber(text:str)->bool:\n",
    "    return False\n",
    "\n",
    "phone_number = input(\"請輸入手機號碼xxxx-xxx-xxx\")\n",
    "if isPhoneNumber(phone_number):\n",
    "    print(f\"您的手機號碼是:{phone_number}\")\n",
    "else:\n",
    "    print('手機號碼格式不正確!')"
   ]
  }
 ],
 "metadata": {
  "kernelspec": {
   "display_name": "Python 3",
   "language": "python",
   "name": "python3"
  },
  "language_info": {
   "name": "python",
   "version": "3.10.15"
  }
 },
 "nbformat": 4,
 "nbformat_minor": 2
}
