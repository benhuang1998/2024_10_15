{
 "cells": [
  {
   "cell_type": "markdown",
   "metadata": {},
   "source": [
    "### 有input的數學運算"
   ]
  },
  {
   "cell_type": "code",
   "execution_count": 1,
   "metadata": {},
   "outputs": [
    {
     "name": "stdout",
     "output_type": "stream",
     "text": [
      "上底:50,下底70,高30\n",
      "面積:1800.0\n"
     ]
    }
   ],
   "source": [
    "#求梯形面積\n",
    "top=int(input(\"請輸入上底:\"))\n",
    "bottom=int(input(\"請輸入下底:\"))\n",
    "height=int(input(\"請輸入高:\"))\n",
    "\n",
    "area=(top+bottom)*height/2\n",
    "print(f'上底:{top},下底{bottom},高{height}')\n",
    "print(f'面積:{area}')"
   ]
  },
  {
   "cell_type": "code",
   "execution_count": 2,
   "metadata": {},
   "outputs": [
    {
     "name": "stdout",
     "output_type": "stream",
     "text": [
      "半徑:5.0,面積=78.539905\n"
     ]
    }
   ],
   "source": [
    "#求圓面積\n",
    "radius=float(input('請輸入半徑:'))\n",
    "pi=3.1415962\n",
    "print(f\"半徑:{radius},面積={pi*radius**2}\")"
   ]
  },
  {
   "cell_type": "code",
   "execution_count": 3,
   "metadata": {},
   "outputs": [
    {
     "name": "stdout",
     "output_type": "stream",
     "text": [
      "半徑:5.0,面積=78.54\n"
     ]
    }
   ],
   "source": [
    "#求圓面積\n",
    "radius=float(input('請輸入半徑:'))\n",
    "pi=3.1415962\n",
    "area=pi*radius**2\n",
    "print(f\"半徑:{radius},面積={area:.2f}\")"
   ]
  }
 ],
 "metadata": {
  "kernelspec": {
   "display_name": "Python 3",
   "language": "python",
   "name": "python3"
  },
  "language_info": {
   "codemirror_mode": {
    "name": "ipython",
    "version": 3
   },
   "file_extension": ".py",
   "mimetype": "text/x-python",
   "name": "python",
   "nbconvert_exporter": "python",
   "pygments_lexer": "ipython3",
   "version": "3.10.15"
  }
 },
 "nbformat": 4,
 "nbformat_minor": 2
}
