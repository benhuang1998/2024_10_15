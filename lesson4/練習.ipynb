{
 "cells": [
  {
   "cell_type": "code",
   "execution_count": 8,
   "metadata": {},
   "outputs": [
    {
     "name": "stdout",
     "output_type": "stream",
     "text": [
      "身高183，體重73，BMI21.8，正常\n",
      "程式結束\n"
     ]
    }
   ],
   "source": [
    "try:\n",
    "    height = eval(input('請輸入身高(公分):'))\n",
    "    weight = eval(input('請輸入體重(公斤):'))\n",
    "    bmi=weight /(height / 100)**2\n",
    "\n",
    "    if bmi>=35:\n",
    "        print(f\"身高{height}，體重{weight}，BMI{bmi:.1f}，重度肥胖\")\n",
    "    elif bmi>=30:\n",
    "        print(f\"身高{height}，體重{weight}，BMI{bmi:.1f}，中度肥胖\")\n",
    "    elif bmi>=27:\n",
    "        print(f\"身高{height}，體重{weight}，BMI{bmi:.1f}，輕度肥胖\")\n",
    "    elif bmi>=24:\n",
    "        print(f\"身高{height}，體重{weight}，BMI{bmi:.1f}，過重\")\n",
    "    elif bmi>=18.5:\n",
    "        print(f\"身高{height}，體重{weight}，BMI{bmi:.1f}，正常\")\n",
    "    else:\n",
    "        print(f\"身高{height}，體重{weight}，BMI{bmi:.1f}，過輕\")\n",
    "except SyntaxError:\n",
    "    print(\"輸入格式錯誤\")\n",
    "except Exception:\n",
    "    print(\"不知名的錯誤\")\n",
    "\n",
    "\n",
    "print(\"程式結束\")  "
   ]
  }
 ],
 "metadata": {
  "kernelspec": {
   "display_name": "Python 3",
   "language": "python",
   "name": "python3"
  },
  "language_info": {
   "codemirror_mode": {
    "name": "ipython",
    "version": 3
   },
   "file_extension": ".py",
   "mimetype": "text/x-python",
   "name": "python",
   "nbconvert_exporter": "python",
   "pygments_lexer": "ipython3",
   "version": "3.10.15"
  }
 },
 "nbformat": 4,
 "nbformat_minor": 2
}
