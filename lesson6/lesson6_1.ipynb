{
 "cells": [
  {
   "cell_type": "code",
   "execution_count": null,
   "metadata": {},
   "outputs": [],
   "source": [
    "#小明想要存錢買一輛機車,機車每輛30000元,他將每月的錢存入,當存款族購買機車時,就顯示提示訊息告知\n",
    "deposit = 0\n",
    "month = 0\n",
    "\n",
    "while (True):\n",
    "    month +=1\n",
    "    money = int(input(f\"請輸入第{month}月份的存款：\"))\n",
    "    deposit +=money\n",
    "    if deposit >= 30000:\n",
    "        break\n",
    "print(f\"恭喜!已經存夠了，存了{month}個月的總存款為:{deposit}元。\")"
   ]
  }
 ],
 "metadata": {
  "kernelspec": {
   "display_name": "Python 3",
   "language": "python",
   "name": "python3"
  },
  "language_info": {
   "name": "python",
   "version": "3.10.15"
  }
 },
 "nbformat": 4,
 "nbformat_minor": 2
}
