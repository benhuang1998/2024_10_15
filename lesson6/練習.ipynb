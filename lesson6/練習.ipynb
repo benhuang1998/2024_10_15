{
 "cells": [
  {
   "cell_type": "code",
   "execution_count": 1,
   "metadata": {},
   "outputs": [
    {
     "name": "stdout",
     "output_type": "stream",
     "text": [
      "名字:wei\n",
      "身高:183\n",
      "體重:73\n",
      "BMI21.8，正常\n",
      "----------\n",
      "名字:yen\n",
      "身高:156\n",
      "體重:50\n",
      "BMI20.5，正常\n",
      "----------\n",
      "輸入格式錯誤，請重新輸入\n",
      "============\n",
      "名字:ben\n",
      "身高:178\n",
      "體重:70\n",
      "BMI22.1，正常\n",
      "----------\n",
      "程式結束\n"
     ]
    }
   ],
   "source": [
    "def bmi_test():\n",
    "    while(True):\n",
    "        try:\n",
    "            name = str(input(\"請輸入名字:\"))\n",
    "            height = eval(input('請輸入身高(公分):'))\n",
    "            weight = eval(input('請輸入體重(公斤):'))\n",
    "            print(f\"名字:{name}\")\n",
    "            print(f\"身高:{height}\")\n",
    "            print(f\"體重:{weight}\")\n",
    "        except Exception:\n",
    "            print(\"輸入格式錯誤，請重新輸入\")\n",
    "            print(\"============\")\n",
    "            continue\n",
    "        bmi=weight /(height / 100)**2\n",
    "        if bmi>=35:\n",
    "            print(f\"BMI{bmi:.1f}，重度肥胖\")\n",
    "        elif bmi>=30:\n",
    "            print(f\"BMI{bmi:.1f}，中度肥胖\")\n",
    "        elif bmi>=27:\n",
    "            print(f\"BMI{bmi:.1f}，輕度肥胖\")\n",
    "        elif bmi>=24:\n",
    "            print(f\"BMI{bmi:.1f}，過重\")\n",
    "        elif bmi>=18.5:\n",
    "            print(f\"BMI{bmi:.1f}，正常\")\n",
    "        else:\n",
    "            print(f\"BMI{bmi:.1f}，過輕\")\n",
    "        break\n",
    "\n",
    "            \n",
    "while(True):\n",
    "    bmi_test()\n",
    "    answer = input(\"請問還要繼續嗎:y,n\")\n",
    "    print(\"----------\")\n",
    "    if answer.upper() =='Y':\n",
    "        continue\n",
    "    else:\n",
    "        break\n",
    "\n",
    "print(\"程式結束\") "
   ]
  }
 ],
 "metadata": {
  "kernelspec": {
   "display_name": "Python 3",
   "language": "python",
   "name": "python3"
  },
  "language_info": {
   "codemirror_mode": {
    "name": "ipython",
    "version": 3
   },
   "file_extension": ".py",
   "mimetype": "text/x-python",
   "name": "python",
   "nbconvert_exporter": "python",
   "pygments_lexer": "ipython3",
   "version": "3.10.15"
  }
 },
 "nbformat": 4,
 "nbformat_minor": 2
}
