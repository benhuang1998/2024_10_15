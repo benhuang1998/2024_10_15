{
 "cells": [
  {
   "cell_type": "code",
   "execution_count": 12,
   "metadata": {},
   "outputs": [],
   "source": [
    "import os\n",
    "from dotenv import load_dotenv\n",
    "load_dotenv()\n",
    "key=os.environ['Gemini_API_KEY']"
   ]
  },
  {
   "cell_type": "code",
   "execution_count": 13,
   "metadata": {},
   "outputs": [
    {
     "name": "stdout",
     "output_type": "stream",
     "text": [
      "```html\n",
      "<!DOCTYPE html>\n",
      "<html lang=\"zh-TW\">\n",
      "<head>\n",
      "  <meta charset=\"UTF-8\">\n",
      "  <meta name=\"viewport\" content=\"width=device-width, initial-scale=1.0\">\n",
      "  <title>如何學習 Python</title>\n",
      "  <style>\n",
      "    body {\n",
      "      font-family: sans-serif;\n",
      "      line-height: 1.6;\n",
      "    }\n",
      "    h1, h2 {\n",
      "      color: #333;\n",
      "    }\n",
      "    ul {\n",
      "      list-style-type: disc;\n",
      "      margin-left: 20px;\n",
      "    }\n",
      "    a {\n",
      "      color: #007bff;\n",
      "      text-decoration: none;\n",
      "    }\n",
      "    a:hover {\n",
      "      text-decoration: underline;\n",
      "    }\n",
      "  </style>\n",
      "</head>\n",
      "<body>\n",
      "\n",
      "  <h1>如何學習 Python</h1>\n",
      "\n",
      "  <p>學習 Python 是一個循序漸進的過程，以下提供一些建議：</p>\n",
      "\n",
      "  <h2>1. 選擇學習資源</h2>\n",
      "  <ul>\n",
      "    <li><strong>線上課程：</strong>\n",
      "      <ul>\n",
      "        <li><a href=\"https://www.codecademy.com/learn/learn-python-3\" target=\"_blank\">Codecademy</a> (互動式教學)</li>\n",
      "        <li><a href=\"https://www.coursera.org/learn/python\" target=\"_blank\">Coursera</a> (大學等級課程，部分免費)</li>\n",
      "        <li><a href=\"https://www.udacity.com/course/introduction-to-programming-nanodegree--nd000\" target=\"_blank\">Udacity</a> (專案導向)</li>\n",
      "        <li><a href=\"https://www.youtube.com/results?search_query=python+tutorial\" target=\"_blank\">YouTube 教學影片</a> (眾多選擇，需仔細篩選)</li>\n",
      "      </ul>\n",
      "    </li>\n",
      "    <li><strong>書籍：</strong>  搜尋 \"Python 入門\" 或 \"Python 程式設計\"，選擇適合自己程度的書籍。</li>\n",
      "    <li><strong>官方文件：</strong> <a href=\"https://docs.python.org/3/\" target=\"_blank\">Python 官方文件</a> (較為深入，適合有一定基礎後參考)</li>\n",
      "  </ul>\n",
      "\n",
      "\n",
      "  <h2>2. 制定學習計畫</h2>\n",
      "  <ul>\n",
      "    <li><strong>設定目標：</strong> 你想用 Python 做什麼？ (例如：網頁開發、資料分析、機器學習)</li>\n",
      "    <li><strong>循序漸進：</strong> 從基礎語法開始，逐步學習進階概念。</li>\n",
      "    <li><strong>持續練習：</strong>  寫程式碼是學習程式語言的關鍵，練習越多，學習效果越好。</li>\n",
      "    <li><strong>定期複習：</strong>  複習之前學過的內容，加深印象。</li>\n",
      "  </ul>\n",
      "\n",
      "\n",
      "  <h2>3. 練習與專案</h2>\n",
      "  <ul>\n",
      "    <li><strong>完成練習題：</strong>  大多數學習資源都會提供練習題，務必完成。</li>\n",
      "    <li><strong>參與線上社群：</strong>  與其他學習者交流，互相學習。</li>\n",
      "    <li><strong>開發小專案：</strong>  嘗試將學到的知識應用到實際專案中，例如：建立簡單的計算器、遊戲等。</li>\n",
      "  </ul>\n",
      "\n",
      "\n",
      "  <h2>4. 持續學習</h2>\n",
      "  <ul>\n",
      "    <li>Python 的應用範圍很廣，持續學習新的庫和框架才能保持競爭力。</li>\n",
      "    <li>關注最新的 Python 技術動態。</li>\n",
      "  </ul>\n",
      "\n",
      "\n",
      "  <p>祝你學習愉快！</p>\n",
      "\n",
      "</body>\n",
      "</html>\n",
      "```\n",
      "\n"
     ]
    }
   ],
   "source": [
    "import google.generativeai as genai\n",
    "\n",
    "genai.configure(api_key=key)\n",
    "model = genai.GenerativeModel(\"gemini-1.5-flash\")\n",
    "response = model.generate_content(\"如何學習python?,回應請輸出成為html格式\")\n",
    "print(response.text)"
   ]
  }
 ],
 "metadata": {
  "kernelspec": {
   "display_name": "Python 3",
   "language": "python",
   "name": "python3"
  },
  "language_info": {
   "codemirror_mode": {
    "name": "ipython",
    "version": 3
   },
   "file_extension": ".py",
   "mimetype": "text/x-python",
   "name": "python",
   "nbconvert_exporter": "python",
   "pygments_lexer": "ipython3",
   "version": "3.10.15"
  }
 },
 "nbformat": 4,
 "nbformat_minor": 2
}
