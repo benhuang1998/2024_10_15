{
 "cells": [
  {
   "cell_type": "code",
   "execution_count": null,
   "metadata": {},
   "outputs": [],
   "source": [
    "import yfinance as yf\n",
    "import pandas as pd\n",
    "\n",
    "all_data = {ticker:yf.download(ticker) for ticker in ['2330.TW','2303.TW','2454.TW','2317.TW']}\n",
    "all_data"
   ]
  },
  {
   "cell_type": "code",
   "execution_count": null,
   "metadata": {},
   "outputs": [],
   "source": [
    "new_data = {key:df[('Adj Close', key)] for key,df in all_data.items()}\n",
    "df = pd.DataFrame(new_data)\n",
    "df1 = df.rename(columns={\n",
    "    '2330.TW':'台積電',\n",
    "    '2303.TW':'聯電',\n",
    "    '2454.TW':'聯發科',\n",
    "    '2317.TW':'鴻海'\n",
    "})\n",
    "df1"
   ]
  },
  {
   "cell_type": "code",
   "execution_count": null,
   "metadata": {},
   "outputs": [],
   "source": [
    "df2 = df1.dropna()"
   ]
  },
  {
   "cell_type": "code",
   "execution_count": null,
   "metadata": {},
   "outputs": [],
   "source": [
    "df2.info()"
   ]
  }
 ],
 "metadata": {
  "kernelspec": {
   "display_name": "Python 3",
   "language": "python",
   "name": "python3"
  },
  "language_info": {
   "name": "python",
   "version": "3.10.15"
  }
 },
 "nbformat": 4,
 "nbformat_minor": 2
}
