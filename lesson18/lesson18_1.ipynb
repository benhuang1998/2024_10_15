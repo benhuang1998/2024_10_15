{
 "cells": [
  {
   "cell_type": "code",
   "execution_count": 7,
   "metadata": {},
   "outputs": [
    {
     "data": {
      "text/plain": [
       "['/workspaces/2024_10_15/lesson18/stations/每日各站進出站人數2023.csv',\n",
       " '/workspaces/2024_10_15/lesson18/stations/每日各站進出站人數2021.csv',\n",
       " '/workspaces/2024_10_15/lesson18/stations/每日各站進出站人數2020.csv',\n",
       " '/workspaces/2024_10_15/lesson18/stations/每日各站進出站人數20190423-20191231.csv',\n",
       " '/workspaces/2024_10_15/lesson18/stations/每日各站進出站人數2022.csv']"
      ]
     },
     "execution_count": 7,
     "metadata": {},
     "output_type": "execute_result"
    }
   ],
   "source": [
    "import os\n",
    "current_folder = os.getcwd()\n",
    "stations_folder = os.path.join(current_folder,'stations')\n",
    "csv_abs_files =[]\n",
    "for filename in os.listdir(stations_folder):\n",
    "    if '每日各站' in filename:\n",
    "        csv_abs_files.append(os.path.join (stations_folder,filename))\n",
    "\n",
    "csv_abs_files"
   ]
  },
  {
   "cell_type": "code",
   "execution_count": 8,
   "metadata": {},
   "outputs": [
    {
     "data": {
      "text/html": [
       "<div>\n",
       "<style scoped>\n",
       "    .dataframe tbody tr th:only-of-type {\n",
       "        vertical-align: middle;\n",
       "    }\n",
       "\n",
       "    .dataframe tbody tr th {\n",
       "        vertical-align: top;\n",
       "    }\n",
       "\n",
       "    .dataframe thead th {\n",
       "        text-align: right;\n",
       "    }\n",
       "</style>\n",
       "<table border=\"1\" class=\"dataframe\">\n",
       "  <thead>\n",
       "    <tr style=\"text-align: right;\">\n",
       "      <th></th>\n",
       "      <th>trnOpDate</th>\n",
       "      <th>staCode</th>\n",
       "      <th>gateInComingCnt</th>\n",
       "      <th>gateOutGoingCnt</th>\n",
       "    </tr>\n",
       "  </thead>\n",
       "  <tbody>\n",
       "    <tr>\n",
       "      <th>0</th>\n",
       "      <td>20230101</td>\n",
       "      <td>900</td>\n",
       "      <td>8030</td>\n",
       "      <td>8241</td>\n",
       "    </tr>\n",
       "    <tr>\n",
       "      <th>1</th>\n",
       "      <td>20230101</td>\n",
       "      <td>910</td>\n",
       "      <td>1017</td>\n",
       "      <td>1326</td>\n",
       "    </tr>\n",
       "    <tr>\n",
       "      <th>2</th>\n",
       "      <td>20230101</td>\n",
       "      <td>920</td>\n",
       "      <td>1400</td>\n",
       "      <td>1705</td>\n",
       "    </tr>\n",
       "    <tr>\n",
       "      <th>3</th>\n",
       "      <td>20230101</td>\n",
       "      <td>930</td>\n",
       "      <td>3558</td>\n",
       "      <td>4398</td>\n",
       "    </tr>\n",
       "    <tr>\n",
       "      <th>4</th>\n",
       "      <td>20230101</td>\n",
       "      <td>940</td>\n",
       "      <td>1509</td>\n",
       "      <td>1815</td>\n",
       "    </tr>\n",
       "    <tr>\n",
       "      <th>...</th>\n",
       "      <td>...</td>\n",
       "      <td>...</td>\n",
       "      <td>...</td>\n",
       "      <td>...</td>\n",
       "    </tr>\n",
       "    <tr>\n",
       "      <th>86604</th>\n",
       "      <td>20231231</td>\n",
       "      <td>7360</td>\n",
       "      <td>7916</td>\n",
       "      <td>8252</td>\n",
       "    </tr>\n",
       "    <tr>\n",
       "      <th>86605</th>\n",
       "      <td>20231231</td>\n",
       "      <td>7361</td>\n",
       "      <td>164</td>\n",
       "      <td>195</td>\n",
       "    </tr>\n",
       "    <tr>\n",
       "      <th>86606</th>\n",
       "      <td>20231231</td>\n",
       "      <td>7362</td>\n",
       "      <td>652</td>\n",
       "      <td>720</td>\n",
       "    </tr>\n",
       "    <tr>\n",
       "      <th>86607</th>\n",
       "      <td>20231231</td>\n",
       "      <td>7380</td>\n",
       "      <td>1526</td>\n",
       "      <td>656</td>\n",
       "    </tr>\n",
       "    <tr>\n",
       "      <th>86608</th>\n",
       "      <td>20231231</td>\n",
       "      <td>7390</td>\n",
       "      <td>576</td>\n",
       "      <td>447</td>\n",
       "    </tr>\n",
       "  </tbody>\n",
       "</table>\n",
       "<p>86609 rows × 4 columns</p>\n",
       "</div>"
      ],
      "text/plain": [
       "       trnOpDate  staCode  gateInComingCnt  gateOutGoingCnt\n",
       "0       20230101      900             8030             8241\n",
       "1       20230101      910             1017             1326\n",
       "2       20230101      920             1400             1705\n",
       "3       20230101      930             3558             4398\n",
       "4       20230101      940             1509             1815\n",
       "...          ...      ...              ...              ...\n",
       "86604   20231231     7360             7916             8252\n",
       "86605   20231231     7361              164              195\n",
       "86606   20231231     7362              652              720\n",
       "86607   20231231     7380             1526              656\n",
       "86608   20231231     7390              576              447\n",
       "\n",
       "[86609 rows x 4 columns]"
      ]
     },
     "execution_count": 8,
     "metadata": {},
     "output_type": "execute_result"
    }
   ],
   "source": [
    "import pandas as pd\n",
    "pd.read_csv(csv_abs_files[0])"
   ]
  },
  {
   "cell_type": "code",
   "execution_count": 20,
   "metadata": {},
   "outputs": [],
   "source": [
    "import pandas as pd\n",
    "station_df = pd.read_csv(csv_abs_files[0])"
   ]
  },
  {
   "cell_type": "code",
   "execution_count": 18,
   "metadata": {},
   "outputs": [],
   "source": [
    "info_path = os.path.join(stations_folder,'台鐵車站資訊.csv')\n",
    "info_df = pd.read_csv(info_path)"
   ]
  },
  {
   "cell_type": "code",
   "execution_count": 21,
   "metadata": {},
   "outputs": [],
   "source": [
    "merge_df = pd.merge(station_df, info_df,how='left',left_on='staCode',right_on='stationCode')"
   ]
  }
 ],
 "metadata": {
  "kernelspec": {
   "display_name": "Python 3",
   "language": "python",
   "name": "python3"
  },
  "language_info": {
   "codemirror_mode": {
    "name": "ipython",
    "version": 3
   },
   "file_extension": ".py",
   "mimetype": "text/x-python",
   "name": "python",
   "nbconvert_exporter": "python",
   "pygments_lexer": "ipython3",
   "version": "3.10.15"
  }
 },
 "nbformat": 4,
 "nbformat_minor": 2
}
