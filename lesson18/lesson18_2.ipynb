{
 "cells": [
  {
   "cell_type": "code",
   "execution_count": 8,
   "metadata": {},
   "outputs": [],
   "source": [
    "import os\n",
    "import pandas as pd\n",
    "from pandas import DataFrame\n",
    "\n",
    "def merge_data(station_paths:list[str],info:str)->DataFrame:\n",
    "    '''\n",
    "    傳出所有的資料\n",
    "    '''\n",
    "    info_df = pd.read_csv(info)\n",
    "    merge_datas = []\n",
    "    for sta_path in station_paths:\n",
    "        station_df = pd.read_csv(sta_path)\n",
    "        merge_df = pd.merge(station_df, info_df,how='left',left_on='staCode',right_on='stationCode')\n",
    "        merge_datas.append(merge_df)\n",
    "    return pd.concat(merge_datas)\n",
    "\n",
    "\n",
    "current_folder = os.getcwd()\n",
    "stations_folder = os.path.join(current_folder,'stations')\n",
    "csv_abs_files = []\n",
    "for filename in os.listdir(stations_folder):\n",
    "    if '每日各站' in filename:\n",
    "        csv_abs_files.append(os.path.join(stations_folder,filename))\n",
    "\n",
    "info_path = os.path.join(stations_folder,'台鐵車站資訊.csv')\n",
    "\n",
    "\n",
    "df = merge_data(csv_abs_files,info_path)\n",
    "df1 = df[['trnOpDate','gateInComingCnt','gateOutGoingCnt','name','stationAddrTw','haveBike']]"
   ]
  },
  {
   "cell_type": "code",
   "execution_count": null,
   "metadata": {},
   "outputs": [],
   "source": [
    "df1.columns =['日期','進站人數','出站人數','站名','地址','youbike']\n",
    "df1"
   ]
  },
  {
   "cell_type": "code",
   "execution_count": 10,
   "metadata": {},
   "outputs": [
    {
     "name": "stdout",
     "output_type": "stream",
     "text": [
      "<class 'pandas.core.frame.DataFrame'>\n",
      "Index: 406761 entries, 0 to 86551\n",
      "Data columns (total 6 columns):\n",
      " #   Column   Non-Null Count   Dtype \n",
      "---  ------   --------------   ----- \n",
      " 0   日期       406761 non-null  int64 \n",
      " 1   進站人數     406761 non-null  int64 \n",
      " 2   出站人數     406761 non-null  int64 \n",
      " 3   站名       406761 non-null  object\n",
      " 4   地址       406761 non-null  object\n",
      " 5   youbike  406761 non-null  object\n",
      "dtypes: int64(3), object(3)\n",
      "memory usage: 21.7+ MB\n"
     ]
    }
   ],
   "source": [
    "df1.info()"
   ]
  },
  {
   "cell_type": "code",
   "execution_count": null,
   "metadata": {},
   "outputs": [],
   "source": [
    "df1['日期'] = pd.to_datetime(df1['日期'].astype(str))\n",
    "df1"
   ]
  },
  {
   "cell_type": "code",
   "execution_count": 15,
   "metadata": {},
   "outputs": [
    {
     "data": {
      "text/plain": [
       "0        1\n",
       "1        1\n",
       "2        1\n",
       "3        1\n",
       "4        0\n",
       "        ..\n",
       "86547    1\n",
       "86548    0\n",
       "86549    0\n",
       "86550    0\n",
       "86551    0\n",
       "Name: youbike, Length: 406761, dtype: int64"
      ]
     },
     "execution_count": 15,
     "metadata": {},
     "output_type": "execute_result"
    }
   ],
   "source": [
    "df1['youbike'].map({'Y':1,'N':0})"
   ]
  },
  {
   "cell_type": "code",
   "execution_count": 18,
   "metadata": {},
   "outputs": [],
   "source": [
    "df2=df1.sort_values(by='日期')\n",
    "df3 = df2.set_index('日期')"
   ]
  },
  {
   "cell_type": "code",
   "execution_count": null,
   "metadata": {},
   "outputs": [],
   "source": [
    "df3"
   ]
  }
 ],
 "metadata": {
  "kernelspec": {
   "display_name": "Python 3",
   "language": "python",
   "name": "python3"
  },
  "language_info": {
   "codemirror_mode": {
    "name": "ipython",
    "version": 3
   },
   "file_extension": ".py",
   "mimetype": "text/x-python",
   "name": "python",
   "nbconvert_exporter": "python",
   "pygments_lexer": "ipython3",
   "version": "3.10.15"
  }
 },
 "nbformat": 4,
 "nbformat_minor": 2
}
