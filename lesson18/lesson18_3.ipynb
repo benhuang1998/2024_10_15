{
 "cells": [
  {
   "cell_type": "code",
   "execution_count": 3,
   "metadata": {},
   "outputs": [
    {
     "data": {
      "text/plain": [
       "a  1   -0.521541\n",
       "   2   -0.821160\n",
       "   3   -0.132217\n",
       "b  1    1.940341\n",
       "   2    2.113292\n",
       "c  3   -1.013400\n",
       "   1    0.551549\n",
       "d  2   -0.988512\n",
       "   3    1.171592\n",
       "dtype: float64"
      ]
     },
     "execution_count": 3,
     "metadata": {},
     "output_type": "execute_result"
    }
   ],
   "source": [
    "#階層式的索引\n",
    "import numpy as np\n",
    "import pandas as pd\n",
    "\n",
    "s1 =pd.Series(np.random.randn(9),\n",
    "          index=[\n",
    "              ['a','a','a','b','b','c','c','d','d'],\n",
    "              [1, 2, 3, 1, 2, 3, 1, 2, 3]\n",
    "              ]\n",
    ")\n",
    "s1"
   ]
  },
  {
   "cell_type": "code",
   "execution_count": 4,
   "metadata": {},
   "outputs": [
    {
     "data": {
      "text/plain": [
       "a  1   -0.521541\n",
       "   2   -0.821160\n",
       "   3   -0.132217\n",
       "b  1    1.940341\n",
       "   2    2.113292\n",
       "dtype: float64"
      ]
     },
     "execution_count": 4,
     "metadata": {},
     "output_type": "execute_result"
    }
   ],
   "source": [
    "s1[['a','b']]"
   ]
  },
  {
   "cell_type": "code",
   "execution_count": 5,
   "metadata": {},
   "outputs": [
    {
     "data": {
      "text/plain": [
       "np.float64(-0.13221729373351576)"
      ]
     },
     "execution_count": 5,
     "metadata": {},
     "output_type": "execute_result"
    }
   ],
   "source": [
    "s1[('a',3)]"
   ]
  }
 ],
 "metadata": {
  "kernelspec": {
   "display_name": "Python 3",
   "language": "python",
   "name": "python3"
  },
  "language_info": {
   "codemirror_mode": {
    "name": "ipython",
    "version": 3
   },
   "file_extension": ".py",
   "mimetype": "text/x-python",
   "name": "python",
   "nbconvert_exporter": "python",
   "pygments_lexer": "ipython3",
   "version": "3.10.15"
  }
 },
 "nbformat": 4,
 "nbformat_minor": 2
}
