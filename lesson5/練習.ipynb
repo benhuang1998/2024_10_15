{
 "cells": [
  {
   "cell_type": "code",
   "execution_count": 1,
   "metadata": {},
   "outputs": [
    {
     "name": "stdout",
     "output_type": "stream",
     "text": [
      "100的因數有: 1 2 4 5 10 20 25 50 100 "
     ]
    }
   ],
   "source": [
    "try:\n",
    "    n = int(input(\"請輸入整數n:\"))\n",
    "    print(f'{n}的因數有:',end =' ')\n",
    "    for i in range(1,n+1):\n",
    "        if n%i == 0:\n",
    "            print(f'{i}',end=' ')\n",
    "except Exception:\n",
    "    print(\"格式錯誤\")"
   ]
  }
 ],
 "metadata": {
  "kernelspec": {
   "display_name": "Python 3",
   "language": "python",
   "name": "python3"
  },
  "language_info": {
   "codemirror_mode": {
    "name": "ipython",
    "version": 3
   },
   "file_extension": ".py",
   "mimetype": "text/x-python",
   "name": "python",
   "nbconvert_exporter": "python",
   "pygments_lexer": "ipython3",
   "version": "3.10.15"
  }
 },
 "nbformat": 4,
 "nbformat_minor": 2
}
