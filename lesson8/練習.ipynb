{
 "cells": [
  {
   "cell_type": "code",
   "execution_count": 9,
   "metadata": {},
   "outputs": [
    {
     "name": "stdout",
     "output_type": "stream",
     "text": [
      "姓名 : 聶心怡\n",
      " 身高 : 175\n",
      " 體重 : 60\n",
      " BMI : 19.591836734693878\n",
      " 狀態 : 正常\n",
      "=======================\n",
      "姓名 : 王惠皓\n",
      " 身高 : 175\n",
      " 體重 : 88\n",
      " BMI : 28.73469387755102\n",
      " 狀態 : 輕度肥胖\n",
      "=======================\n",
      "姓名 : 王怡珊\n",
      " 身高 : 141\n",
      " 體重 : 109\n",
      " BMI : 54.82621598511142\n",
      " 狀態 : 重度肥胖\n",
      "=======================\n"
     ]
    }
   ],
   "source": [
    "import random\n",
    "def get_names(nums:int=2)->list[str]:\n",
    "    with open('names.txt',mode = 'r',encoding='utf-8') as file:\n",
    "        names_str = file.read()\n",
    "    names:list[str] = names_str.split(sep='\\n')\n",
    "    names = random.choices(names,k=nums)\n",
    "    return names\n",
    "\n",
    "def generate_students(names:list[str]) ->list[dict]:\n",
    "    students:list[dict]=[]\n",
    "    for name in names:\n",
    "        height = random.randint(140,190)\n",
    "        weight = random.randint(50,110)\n",
    "        bmi = weight /((height/100)**2)\n",
    "        if bmi >= 35:\n",
    "            status = \"重度肥胖\"\n",
    "        elif bmi >= 30:\n",
    "            status = \"中度肥胖\"\n",
    "        elif bmi >= 27:\n",
    "            status = \"輕度肥胖\"\n",
    "        elif bmi >= 24:\n",
    "            status = \"過重\"\n",
    "        elif bmi >= 18.5:\n",
    "            status = \"正常\"\n",
    "        else:\n",
    "            status = \"過輕\"\n",
    "        student ={'姓名':name,'身高':height,'體重':weight,'BMI':bmi,'狀態':status}\n",
    "        students.append(student)\n",
    "    return students\n",
    "\n",
    "nums = int(input(\"請輸入人數1~10:\"))\n",
    "student_names = get_names(nums=nums)\n",
    "student_bmi = generate_students(names=student_names)\n",
    "for student in student_bmi:\n",
    "    print(f\"姓名 : {student['姓名']}\\n\",\n",
    "        f\"身高 : {student['身高']}\\n\",\n",
    "        f\"體重 : {student['體重']}\\n\",\n",
    "        f\"BMI : {student['BMI']}\\n\",\n",
    "        f\"狀態 : {student['狀態']}\",)\n",
    "    print(\"=======================\")"
   ]
  }
 ],
 "metadata": {
  "kernelspec": {
   "display_name": "Python 3",
   "language": "python",
   "name": "python3"
  },
  "language_info": {
   "codemirror_mode": {
    "name": "ipython",
    "version": 3
   },
   "file_extension": ".py",
   "mimetype": "text/x-python",
   "name": "python",
   "nbconvert_exporter": "python",
   "pygments_lexer": "ipython3",
   "version": "3.10.15"
  }
 },
 "nbformat": 4,
 "nbformat_minor": 2
}
