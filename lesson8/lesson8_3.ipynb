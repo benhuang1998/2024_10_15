{
 "cells": [
  {
   "cell_type": "code",
   "execution_count": 1,
   "metadata": {},
   "outputs": [
    {
     "name": "stdout",
     "output_type": "stream",
     "text": [
      "程玫靖\n",
      "楊韻如\n",
      "陳文賢\n",
      "張天亨\n",
      "蕭淑華\n"
     ]
    }
   ],
   "source": [
    "import random\n",
    "def get_names(nums:int=2)->list[str]:\n",
    "    with open('names.txt',mode = 'r',encoding='utf-8') as file:\n",
    "        names_str = file.read()\n",
    "    names:list[str] = names_str.split(sep='\\n')\n",
    "    names = random.choices(names,k=nums)\n",
    "    return names\n",
    "\n",
    "nums = int(input('請輸入學生數量(最多10位):'))\n",
    "student_names:list[str] = get_names(nums=nums)\n",
    "for name in student_names:\n",
    "    print(name)"
   ]
  },
  {
   "cell_type": "code",
   "execution_count": 30,
   "metadata": {},
   "outputs": [],
   "source": [
    "def generation_students(names:list[str]) ->list[dict]:\n",
    "    students:list[dict]=[]\n",
    "    for name in names:\n",
    "        chinese = random.randint(50,100)\n",
    "        english = random.randint(50,100)\n",
    "        math = random.randint(50,100)\n",
    "        student ={'name':name,'chinese':chinese,'english':english,'math':math}\n",
    "        students.append(student)\n",
    "    return students"
   ]
  },
  {
   "cell_type": "code",
   "execution_count": 31,
   "metadata": {},
   "outputs": [
    {
     "data": {
      "text/plain": [
       "[{'name': '程玫靖', 'chinese': 76, 'english': 73, 'math': 63},\n",
       " {'name': '楊韻如', 'chinese': 57, 'english': 73, 'math': 98},\n",
       " {'name': '陳文賢', 'chinese': 73, 'english': 71, 'math': 92},\n",
       " {'name': '張天亨', 'chinese': 65, 'english': 72, 'math': 56},\n",
       " {'name': '蕭淑華', 'chinese': 60, 'english': 72, 'math': 69}]"
      ]
     },
     "execution_count": 31,
     "metadata": {},
     "output_type": "execute_result"
    }
   ],
   "source": [
    "students = generation_students(names=student_names)\n",
    "students"
   ]
  }
 ],
 "metadata": {
  "kernelspec": {
   "display_name": "Python 3",
   "language": "python",
   "name": "python3"
  },
  "language_info": {
   "codemirror_mode": {
    "name": "ipython",
    "version": 3
   },
   "file_extension": ".py",
   "mimetype": "text/x-python",
   "name": "python",
   "nbconvert_exporter": "python",
   "pygments_lexer": "ipython3",
   "version": "3.10.15"
  }
 },
 "nbformat": 4,
 "nbformat_minor": 2
}
